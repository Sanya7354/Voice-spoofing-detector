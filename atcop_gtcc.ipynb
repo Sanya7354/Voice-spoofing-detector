{
 "cells": [
  {
   "cell_type": "code",
   "execution_count": 22,
   "metadata": {
    "colab": {
     "base_uri": "https://localhost:8080/"
    },
    "id": "W9sioJJIxpxU",
    "outputId": "2072ce57-36cc-480b-d909-9e312fe711d8"
   },
   "outputs": [
    {
     "name": "stdout",
     "output_type": "stream",
     "text": [
      "(5000, 54)\n"
     ]
    }
   ],
   "source": [
    "import pandas as pd\n",
    "\n",
    "df = pd.read_csv('/MTP/bona.csv')\n",
    "df.head()\n",
    "x = df.loc[:,:].values.tolist()\n",
    "import numpy as np\n",
    "x = np.array(x)\n",
    "print(x.shape)\n",
    "y = []\n",
    "for i in range(0,5000):\n",
    "  y.append(0)"
   ]
  },
  {
   "cell_type": "code",
   "execution_count": 2,
   "metadata": {
    "colab": {
     "base_uri": "https://localhost:8080/"
    },
    "id": "1U4K_U4EoG3b",
    "outputId": "3bab34a3-edd4-42aa-b55b-363985533f66"
   },
   "outputs": [
    {
     "name": "stdout",
     "output_type": "stream",
     "text": [
      "(5000, 54)\n"
     ]
    }
   ],
   "source": [
    "import pandas as pd\n",
    "df1 = pd.read_csv('/MTP/spf.csv')\n",
    "df1.head()\n",
    "z = df1.loc[:,:].values.tolist()\n",
    "\n",
    "import numpy as np\n",
    "z = np.array(z)\n",
    "\n",
    "print(z.shape)\n",
    "for i in range(0,5000):\n",
    "  y.append(1)"
   ]
  },
  {
   "cell_type": "code",
   "execution_count": 3,
   "metadata": {
    "colab": {
     "base_uri": "https://localhost:8080/"
    },
    "id": "XF3TGSm3NSYb",
    "outputId": "9953f3e2-3e3e-49ce-c231-deeccd656110"
   },
   "outputs": [
    {
     "name": "stdout",
     "output_type": "stream",
     "text": [
      "(5000, 54)\n"
     ]
    }
   ],
   "source": [
    "import pandas as pd\n",
    "df2 = pd.read_csv('/MTP/rep.csv')\n",
    "df2.head()\n",
    "u = df2.loc[:,:].values.tolist()\n",
    "\n",
    "import numpy as np\n",
    "u = np.array(u)\n",
    "\n",
    "print(u.shape)\n",
    "for i in range(0,5000):\n",
    "  y.append(2)"
   ]
  },
  {
   "cell_type": "code",
   "execution_count": 4,
   "metadata": {
    "colab": {
     "base_uri": "https://localhost:8080/"
    },
    "id": "pEjyMh0tUJW8",
    "outputId": "e4cac4ce-5363-4a0f-b650-34ea2114272c"
   },
   "outputs": [
    {
     "name": "stdout",
     "output_type": "stream",
     "text": [
      "(1551, 54)\n"
     ]
    }
   ],
   "source": [
    "import pandas as pd\n",
    "df3 = pd.read_csv('/MTP/2pr.csv')\n",
    "df3.head()\n",
    "v = df3.loc[:,:].values.tolist()\n",
    "\n",
    "import numpy as np\n",
    "v = np.array(v)\n",
    "\n",
    "print(v.shape)\n",
    "for i in range(0,v.shape[0]):\n",
    "  y.append(3)"
   ]
  },
  {
   "cell_type": "code",
   "execution_count": 5,
   "metadata": {
    "colab": {
     "base_uri": "https://localhost:8080/"
    },
    "id": "wehkyc_7owrx",
    "outputId": "2cf0c17f-a7d2-4ac9-bc33-fdf2cbb76598"
   },
   "outputs": [
    {
     "name": "stdout",
     "output_type": "stream",
     "text": [
      "(16551, 54)\n"
     ]
    }
   ],
   "source": [
    "x = np.concatenate((x, z), axis=0)\n",
    "x = np.concatenate((x, u), axis=0)\n",
    "x = np.concatenate((x, v), axis=0)\n",
    "print(x.shape)"
   ]
  },
  {
   "cell_type": "code",
   "execution_count": 6,
   "metadata": {
    "colab": {
     "base_uri": "https://localhost:8080/"
    },
    "id": "UIWavcKVpKSH",
    "outputId": "8d402075-97b5-4b24-d848-1db5de2b1e39"
   },
   "outputs": [
    {
     "name": "stdout",
     "output_type": "stream",
     "text": [
      "(16551,)\n"
     ]
    }
   ],
   "source": [
    "k = x\n",
    "j = y\n",
    "y = np.array(y)\n",
    "print(y.shape)"
   ]
  },
  {
   "cell_type": "code",
   "execution_count": 7,
   "metadata": {
    "colab": {
     "base_uri": "https://localhost:8080/"
    },
    "id": "0McM4BB0pvJ3",
    "outputId": "12f2ffb0-f417-4aaf-f373-82b617c7ccc4"
   },
   "outputs": [
    {
     "name": "stdout",
     "output_type": "stream",
     "text": [
      "[0 0 0 ... 3 3 3]\n",
      "[[ 1.61500000e+03  9.62000000e+02  7.00000000e+01 ...  4.78828536e-01\n",
      "   1.52147485e-01 -1.06674962e-01]\n",
      " [ 1.52900000e+03  8.27000000e+02  1.48000000e+02 ...  1.50975450e-01\n",
      "   2.68749499e-01  1.48185533e-01]\n",
      " [ 1.44600000e+03  9.42000000e+02  6.60000000e+01 ... -2.69113624e-01\n",
      "   1.42979134e-01  3.43026559e-01]\n",
      " ...\n",
      " [ 4.53080000e+04  3.61200000e+03  1.15100000e+03 ...  2.17653951e-01\n",
      "   1.54797108e-01  1.07061125e-01]\n",
      " [ 4.51990000e+04  3.55700000e+03  1.18100000e+03 ...  2.20548112e-01\n",
      "   1.84373039e-01  1.55807596e-01]\n",
      " [ 4.73690000e+04  2.77300000e+03  1.21300000e+03 ...  1.84089710e-01\n",
      "   1.11000014e-01  9.04703810e-02]]\n"
     ]
    }
   ],
   "source": [
    "print(y)\n",
    "print(x)"
   ]
  },
  {
   "cell_type": "code",
   "execution_count": 8,
   "metadata": {
    "colab": {
     "base_uri": "https://localhost:8080/"
    },
    "id": "fJ-zK2aQpObe",
    "outputId": "820a3b96-193e-476a-f71d-1d53b6535a37"
   },
   "outputs": [
    {
     "name": "stdout",
     "output_type": "stream",
     "text": [
      "[ 6.50300000e+03  8.51000000e+02  1.11000000e+02  1.36000000e+02\n",
      "  4.00000000e+01  1.92000000e+02  5.30000000e+01  4.90000000e+01\n",
      "  8.30000000e+01  7.60000000e+01  4.62000000e+02  1.13000000e+02\n",
      "  5.90000000e+01  4.70000000e+01  5.90000000e+01  3.57000000e+02\n",
      "  1.19000000e+02  2.98000000e+02  9.48000000e+02  5.65000000e+02\n",
      "  6.57900000e+03  9.67000000e+02  9.70000000e+01  1.00000000e+02\n",
      "  4.20000000e+01  1.72000000e+02  5.70000000e+01  3.50000000e+01\n",
      "  1.14000000e+02  6.90000000e+01  4.44000000e+02  9.60000000e+01\n",
      "  6.10000000e+01  4.90000000e+01  7.90000000e+01  3.19000000e+02\n",
      "  1.48000000e+02  3.09000000e+02  8.55000000e+02  5.29000000e+02\n",
      " -1.71066926e+01 -5.73140763e+01  1.30261832e+00 -2.42350624e+00\n",
      " -1.42159404e+00 -1.04016343e+00 -9.14592032e-01 -6.47671543e-01\n",
      "  7.47195180e-02  5.19644753e-01  4.25494707e-01  4.13366304e-01\n",
      "  1.52105089e-01 -3.03406610e-02]\n"
     ]
    }
   ],
   "source": [
    "from sklearn.model_selection import train_test_split\n",
    "X_train, X_test, y_train, y_test = train_test_split(\n",
    "    x, \n",
    "    y, \n",
    "    test_size=0.2, \n",
    "    random_state=44\n",
    ")\n",
    "print(X_train[0])"
   ]
  },
  {
   "cell_type": "code",
   "execution_count": 9,
   "metadata": {
    "id": "wcdPiUQGpY6y"
   },
   "outputs": [],
   "source": [
    "from sklearn.preprocessing import StandardScaler\n",
    "from sklearn.preprocessing import MinMaxScaler\n",
    "\n",
    "scaler = StandardScaler()\n",
    "# keep our unscaled features just in case we need to process them alternatively\n",
    "features_scaled = x \n",
    "features_scaled = scaler.fit_transform(features_scaled)\n",
    "\n",
    "scaler = MinMaxScaler()\n",
    "# keep our unscaled features just in case we need to process them alternatively\n",
    "features_minmax = x\n",
    "features_minmax = scaler.fit_transform(features_minmax)"
   ]
  },
  {
   "cell_type": "code",
   "execution_count": 10,
   "metadata": {
    "colab": {
     "base_uri": "https://localhost:8080/"
    },
    "id": "8gcB50rBpcc3",
    "outputId": "6f9387a6-0762-4882-d72e-b531a7689954"
   },
   "outputs": [
    {
     "name": "stdout",
     "output_type": "stream",
     "text": [
      "[ 1.61500000e+03  9.62000000e+02  7.00000000e+01  1.30000000e+02\n",
      "  5.40000000e+01  4.70000000e+01  2.70000000e+01  4.30000000e+01\n",
      "  1.10000000e+02  6.20000000e+01  1.71000000e+02  9.40000000e+01\n",
      "  1.40000000e+01  3.50000000e+01  1.70000000e+01  2.34000000e+02\n",
      "  1.32000000e+02  2.12000000e+02  1.12100000e+03  5.30000000e+02\n",
      "  1.63200000e+03  1.14700000e+03  8.30000000e+01  1.57000000e+02\n",
      "  5.50000000e+01  5.10000000e+01  2.40000000e+01  4.80000000e+01\n",
      "  9.00000000e+01  5.40000000e+01  1.79000000e+02  1.11000000e+02\n",
      "  2.10000000e+01  3.40000000e+01  1.60000000e+01  1.87000000e+02\n",
      "  1.18000000e+02  1.94000000e+02  9.62000000e+02  5.17000000e+02\n",
      " -2.19660690e+00 -1.28266100e+01  1.41030282e+00 -3.45395165e+00\n",
      " -1.31800587e+00 -1.63592577e+00 -7.13772485e-01 -5.96084672e-01\n",
      "  1.35958224e-01  4.41067555e-01  7.58434467e-01  4.78828536e-01\n",
      "  1.52147485e-01 -1.06674962e-01]\n"
     ]
    }
   ],
   "source": [
    "from sklearn.preprocessing import StandardScaler\n",
    "from sklearn.preprocessing import MinMaxScaler\n",
    "\n",
    "scaler = StandardScaler()\n",
    "# keep our unscaled features just in case we need to process them alternatively\n",
    "features_scaled = x \n",
    "features_scaled = scaler.fit_transform(features_scaled)\n",
    "\n",
    "scaler = MinMaxScaler()\n",
    "# keep our unscaled features just in case we need to process them alternatively\n",
    "features_minmax = x\n",
    "features_minmax = scaler.fit_transform(features_minmax)\n",
    "X_train_scaled, X_test_scaled, y_t_s, y_te_s = train_test_split(\n",
    "    features_minmax, \n",
    "    y, \n",
    "    test_size=0.2, \n",
    "    random_state=69\n",
    ")\n",
    "print(x[0])"
   ]
  },
  {
   "cell_type": "code",
   "execution_count": 11,
   "metadata": {
    "colab": {
     "base_uri": "https://localhost:8080/"
    },
    "id": "d3ZGB85zRIBr",
    "outputId": "d33b48ad-81f2-43cf-d9e5-4a2167525369"
   },
   "outputs": [
    {
     "name": "stdout",
     "output_type": "stream",
     "text": [
      "Collecting xgboost\n",
      "  Downloading xgboost-1.6.2-py3-none-win_amd64.whl (125.4 MB)\n",
      "Requirement already satisfied: numpy in c:\\programdata\\anaconda3\\lib\\site-packages (from xgboost) (1.22.2)\n",
      "Requirement already satisfied: scipy in c:\\programdata\\anaconda3\\lib\\site-packages (from xgboost) (1.7.1)\n",
      "Installing collected packages: xgboost\n",
      "Successfully installed xgboost-1.6.2\n"
     ]
    },
    {
     "name": "stderr",
     "output_type": "stream",
     "text": [
      "WARNING: Ignoring invalid distribution -mpy (c:\\programdata\\anaconda3\\lib\\site-packages)\n",
      "WARNING: Ignoring invalid distribution -umpy (c:\\programdata\\anaconda3\\lib\\site-packages)\n",
      "WARNING: Ignoring invalid distribution -mpy (c:\\programdata\\anaconda3\\lib\\site-packages)\n",
      "WARNING: Ignoring invalid distribution - (c:\\programdata\\anaconda3\\lib\\site-packages)\n",
      "WARNING: Ignoring invalid distribution -mpy (c:\\programdata\\anaconda3\\lib\\site-packages)\n",
      "WARNING: Ignoring invalid distribution -umpy (c:\\programdata\\anaconda3\\lib\\site-packages)\n",
      "WARNING: Ignoring invalid distribution -mpy (c:\\programdata\\anaconda3\\lib\\site-packages)\n",
      "WARNING: Ignoring invalid distribution - (c:\\programdata\\anaconda3\\lib\\site-packages)\n",
      "WARNING: Ignoring invalid distribution -mpy (c:\\programdata\\anaconda3\\lib\\site-packages)\n",
      "WARNING: Ignoring invalid distribution -umpy (c:\\programdata\\anaconda3\\lib\\site-packages)\n",
      "WARNING: Ignoring invalid distribution -mpy (c:\\programdata\\anaconda3\\lib\\site-packages)\n",
      "WARNING: Ignoring invalid distribution - (c:\\programdata\\anaconda3\\lib\\site-packages)\n",
      "WARNING: Ignoring invalid distribution -mpy (c:\\programdata\\anaconda3\\lib\\site-packages)\n",
      "WARNING: Ignoring invalid distribution -umpy (c:\\programdata\\anaconda3\\lib\\site-packages)\n",
      "WARNING: Ignoring invalid distribution -mpy (c:\\programdata\\anaconda3\\lib\\site-packages)\n",
      "WARNING: Ignoring invalid distribution - (c:\\programdata\\anaconda3\\lib\\site-packages)\n",
      "WARNING: Ignoring invalid distribution -mpy (c:\\programdata\\anaconda3\\lib\\site-packages)\n",
      "WARNING: Ignoring invalid distribution -umpy (c:\\programdata\\anaconda3\\lib\\site-packages)\n",
      "WARNING: Ignoring invalid distribution -mpy (c:\\programdata\\anaconda3\\lib\\site-packages)\n",
      "WARNING: Ignoring invalid distribution - (c:\\programdata\\anaconda3\\lib\\site-packages)\n",
      "WARNING: Ignoring invalid distribution -mpy (c:\\programdata\\anaconda3\\lib\\site-packages)\n",
      "WARNING: Ignoring invalid distribution -umpy (c:\\programdata\\anaconda3\\lib\\site-packages)\n",
      "WARNING: Ignoring invalid distribution -mpy (c:\\programdata\\anaconda3\\lib\\site-packages)\n",
      "WARNING: Ignoring invalid distribution - (c:\\programdata\\anaconda3\\lib\\site-packages)\n",
      "WARNING: Ignoring invalid distribution -mpy (c:\\programdata\\anaconda3\\lib\\site-packages)\n",
      "WARNING: Ignoring invalid distribution -umpy (c:\\programdata\\anaconda3\\lib\\site-packages)\n",
      "WARNING: Ignoring invalid distribution -mpy (c:\\programdata\\anaconda3\\lib\\site-packages)\n",
      "WARNING: Ignoring invalid distribution - (c:\\programdata\\anaconda3\\lib\\site-packages)\n"
     ]
    }
   ],
   "source": [
    "!pip install xgboost"
   ]
  },
  {
   "cell_type": "code",
   "execution_count": 12,
   "metadata": {
    "id": "KgaszVm2qcsA"
   },
   "outputs": [],
   "source": [
    "def confusion_matrix(y_true, y_pred):\n",
    "  \n",
    "  cm = np.zeros((3, 3)) # initialize the confusion matrix\n",
    "  \n",
    "  for i in range(len(y_true)): # for each sample\n",
    "    cm[y_true[i], y_pred[i]] += 1 # add 1 to the corresponding row and column\n",
    "  \n",
    "  return cm\n",
    "\n",
    "def one_hot_encoding(targets, n_classes):\n",
    "    return np.eye(n_classes)[targets] # one-hot encoding\n",
    "def revert_one_hot_encoding(y):\n",
    "  return np.argmax(y, axis=1) # axis=1 means that we want to find the index of the maximum value in each row\n",
    "def split_data(X, y, test_size):\n",
    "    \n",
    "    indices = np.arange(X.shape[0]) # arange the indices\n",
    "    np.random.shuffle(indices) # shuffle the indices\n",
    "    \n",
    "    X = X[indices] # assign the shuffled X\n",
    "    y = y[indices] # assign the shuffled y\n",
    "\n",
    "    n_test = int(test_size * X.shape[0]) # calculate the number of test samples\n",
    "    \n",
    "    return X[:-n_test], X[-n_test:], y[:-n_test], y[-n_test:] # return the train and test data\n",
    "def feature_normalize(X):\n",
    "    \n",
    "    mu = np.mean(X, axis=0) # Mean of each feature\n",
    "    sigma = np.std(X, axis=0) # Standard deviation of each feature\n",
    "    \n",
    "    X_norm = (X-mu)/sigma # Normalized data (zero mean and unite standard deviation)\n",
    "    \n",
    "    return X_norm, mu, sigma\n",
    "def accuracy(y_true, y_pred):\n",
    "    return np.mean(y_true == y_pred) # mean of the elements that are equal\n",
    "def confusion_matrix(y_true, y_pred):\n",
    "\n",
    "    cm = np.zeros((3, 3)) # initialize the confusion matrix\n",
    "    \n",
    "    for i in range(len(y_true)): # for each sample\n",
    "        cm[y_true[i], y_pred[i]] += 1 # add 1 to the corresponding row and column\n",
    "    \n",
    "    return cm\n",
    "def elm_train(X, y, L, w1=None):\n",
    "    \n",
    "    M = np.size(X, axis=0) # Number of examples\n",
    "    N = np.size(X, axis=1) # Number of features\n",
    "    \n",
    "    # If w1 is not defined\n",
    "    if w1 is None:\n",
    "        #w1 = np.random.rand(L, N+1);  # Weights with bias\n",
    "        w1 = np.random.uniform(low=-0.2, high=0.2, size=(L, N+1)) # Weights with bias\n",
    "\n",
    "    bias = np.ones(M).reshape(-1, 1) # Bias definition\n",
    "    #bias.shape = (M, 1)\n",
    "    Xa = np.concatenate((bias, X), axis=1) # Input with bias\n",
    "\n",
    "    S = Xa.dot(w1.T) # Weighted sum of hidden layer\n",
    "    H = S*np.tanh((np.log(1 + np.exp(S)))) # Activation function f(x) = tanh(x), dimension M X L \n",
    "    # H = 1 / (1 + np.exp(-1 * S))\n",
    "    bias = np.ones(M).reshape(-1, 1) # Bias definition\n",
    "    #bias.shape = (M, 1)\n",
    "    Ha = np.concatenate((bias, H), axis=1) # Activation function with bias\n",
    "\n",
    "    w2 = (np.linalg.pinv(Ha).dot(y)).T # w2' = pinv(Ha)*D\n",
    "\n",
    "    y_pred = Ha.dot(w2.T) # Predictions\n",
    "    \n",
    "    return y_pred, w1, w2\n",
    "def elm_test(X, w1, w2):\n",
    "    \n",
    "    M = np.size(X, axis=0) # Number of examples\n",
    "    N = np.size(X, axis=1) # Number of features\n",
    "\n",
    "    bias = np.ones(M).reshape(-1, 1) # Bias definition\n",
    "    #bias.shape = (M, 1)\n",
    "    Xa = np.concatenate((bias, X), axis=1) # Input with bias\n",
    "\n",
    "    S = Xa.dot(w1.T) # Weighted sum of hidden layer\n",
    "    H = S*np.tanh((np.log(1 + np.exp(S)))) # Activation function f(x) = tanh(x), dimension M X L\n",
    "\n",
    "    bias = np.ones(M).reshape(-1, 1) # Bias definition\n",
    "    #bias.shape = (M, 1)\n",
    "    Ha = np.concatenate((bias, H), axis=1) # Activation function with bias\n",
    "\n",
    "    y_pred = Ha.dot(w2.T) # Predictions\n",
    "    \n",
    "    return y_pred"
   ]
  },
  {
   "cell_type": "code",
   "execution_count": 13,
   "metadata": {
    "colab": {
     "base_uri": "https://localhost:8080/",
     "height": 955
    },
    "id": "bTLBDphlfURl",
    "outputId": "7ee10aae-3e6b-4990-d949-b490705d9c2c"
   },
   "outputs": [
    {
     "name": "stdout",
     "output_type": "stream",
     "text": [
      "[ 1.61500000e+03  9.62000000e+02  7.00000000e+01  1.30000000e+02\n",
      "  5.40000000e+01  4.70000000e+01  2.70000000e+01  4.30000000e+01\n",
      "  1.10000000e+02  6.20000000e+01  1.71000000e+02  9.40000000e+01\n",
      "  1.40000000e+01  3.50000000e+01  1.70000000e+01  2.34000000e+02\n",
      "  1.32000000e+02  2.12000000e+02  1.12100000e+03  5.30000000e+02\n",
      "  1.63200000e+03  1.14700000e+03  8.30000000e+01  1.57000000e+02\n",
      "  5.50000000e+01  5.10000000e+01  2.40000000e+01  4.80000000e+01\n",
      "  9.00000000e+01  5.40000000e+01  1.79000000e+02  1.11000000e+02\n",
      "  2.10000000e+01  3.40000000e+01  1.60000000e+01  1.87000000e+02\n",
      "  1.18000000e+02  1.94000000e+02  9.62000000e+02  5.17000000e+02\n",
      " -2.19660690e+00 -1.28266100e+01  1.41030282e+00 -3.45395165e+00\n",
      " -1.31800587e+00 -1.63592577e+00 -7.13772485e-01 -5.96084672e-01\n",
      "  1.35958224e-01  4.41067555e-01  7.58434467e-01  4.78828536e-01\n",
      "  1.52147485e-01 -1.06674962e-01]\n",
      "Number of hidden neuros: 15\n",
      "Number of hidden neuros: 1000\n",
      "Training accuracy (%): 99.93957703927492\n",
      "Testing accuracy (%): 99.35805452760366\n"
     ]
    },
    {
     "data": {
      "text/plain": [
       "[<matplotlib.lines.Line2D at 0x176211fa550>]"
      ]
     },
     "execution_count": 13,
     "metadata": {},
     "output_type": "execute_result"
    },
    {
     "data": {
      "image/png": "[encoded data removed]",
      "text/plain": [
       "<Figure size 432x288 with 1 Axes>"
      ]
     },
     "metadata": {
      "needs_background": "light"
     },
     "output_type": "display_data"
    },
    {
     "data": {
      "image/png": "[encoded data removed]",
      "text/plain": [
       "<Figure size 432x288 with 1 Axes>"
      ]
     },
     "metadata": {
      "needs_background": "light"
     },
     "output_type": "display_data"
    }
   ],
   "source": [
    "x = k\n",
    "from sklearn.metrics import f1_score\n",
    "y = j\n",
    "y = one_hot_encoding(y, 4)\n",
    "from sklearn.model_selection import train_test_split\n",
    "from sklearn.preprocessing import StandardScaler\n",
    "from sklearn.preprocessing import MinMaxScaler\n",
    "from sklearn.metrics import roc_curve\n",
    "from sklearn.metrics import auc\n",
    "scaler = StandardScaler()\n",
    "import matplotlib.pyplot as plt\n",
    "def compute_eer(fpr,tpr,thresholds):\n",
    "    \"\"\" Returns equal error rate (EER) and the corresponding threshold. \"\"\"\n",
    "    fnr = 1-tpr\n",
    "    abs_diffs = np.abs(fpr - fnr)\n",
    "    min_index = np.argmin(abs_diffs)\n",
    "    eer = np.mean((fpr[min_index], fnr[min_index]))\n",
    "    return eer, thresholds[min_index]\n",
    "# keep our unscaled features just in case we need to process them alternatively\n",
    "features_scaled = x \n",
    "features_scaled = scaler.fit_transform(features_scaled)\n",
    "\n",
    "scaler = MinMaxScaler()\n",
    "# keep our unscaled features just in case we need to process them alternatively\n",
    "features_minmax = x\n",
    "features_minmax = scaler.fit_transform(features_minmax)\n",
    "X_train_scaled, X_test_scaled, y_t_s, y_te_s = train_test_split(\n",
    "    features_minmax, \n",
    "    y, \n",
    "    test_size=0.8, \n",
    "    random_state=69\n",
    ")\n",
    "print(x[0])\n",
    "acc = 0\n",
    "f1_elm = 0\n",
    "elm_eer = 0\n",
    "elmmtd = 0\n",
    "fpr_elm = []\n",
    "tpr_elm = []\n",
    "for i in range(0,1):\n",
    "  L = 15 # Number of hidden neurons\n",
    "\n",
    "  print('Number of hidden neuros:', L)\n",
    "\n",
    "  y_train_pred, w1, w2 = elm_train(X_train_scaled, y_t_s, L=L) # Train\n",
    "  y_test_pred = elm_test(X_test_scaled, w1, w2) # Test\n",
    "  L = 1000# Number of hidden neurons\n",
    "\n",
    "  print('Number of hidden neuros:', L)\n",
    "\n",
    "  y_train_pred, w1, w2 = elm_train(X_train_scaled, y_t_s, L)\n",
    "  y_test_pred = elm_test(X_test_scaled, w1, w2)\n",
    "  train_acc = accuracy(revert_one_hot_encoding(y_t_s), revert_one_hot_encoding(y_train_pred))\n",
    "  test_acc = accuracy(revert_one_hot_encoding(y_te_s), revert_one_hot_encoding(y_test_pred))\n",
    "  f1 = f1_score(revert_one_hot_encoding(y_te_s), revert_one_hot_encoding(y_test_pred), average='macro')\n",
    "  fpr, tpr, tresh = roc_curve(y_te_s[:, 0], y_test_pred[:, 0])\n",
    "  eer,th = compute_eer(fpr,tpr,tresh)\n",
    "  print('Training accuracy (%):', train_acc*100)\n",
    "  print('Testing accuracy (%):', test_acc*100)\n",
    "  mtdcf = (0.9405*fpr + 0.5*(1-tpr))/0.5\n",
    "  abs_diffs = np.abs(fpr - (1-tpr))\n",
    "  min_index = np.argmin(abs_diffs)\n",
    "  roc_auc = auc(fpr, tpr)\n",
    "  plt.figure()\n",
    "  plt.plot(\n",
    "        fpr,\n",
    "        tpr,\n",
    "        label= \"ELM ROC curve (area = {0:f})\".format(roc_auc),\n",
    "        color=\"navy\",\n",
    "        linestyle=\"--\",\n",
    "        linewidth=1,\n",
    "    )\n",
    "  if test_acc > acc:\n",
    "    acc = test_acc\n",
    "    f1_elm = f1\n",
    "    elm_eer = eer\n",
    "    elmmtd = mtdcf[min_index]\n",
    "    fpr_elm = fpr\n",
    "    tpr_elm = tpr\n",
    "roc_auc = auc(fpr, tpr)\n",
    "plt.figure()\n",
    "plt.plot(\n",
    "      fpr_elm,\n",
    "      tpr_elm,\n",
    "      label= \"ELM ROC curve (area = {0:f})\".format(roc_auc),\n",
    "      color=\"Red\",\n",
    "      linestyle=\"--\",\n",
    "      linewidth=1,\n",
    ")\n",
    "# fpr = dict()\n",
    "# tpr = dict()\n",
    "# roc_auc = dict()\n",
    "# for i in range(3):\n",
    "#     fpr[i], tpr[i], _ = roc_curve(y_te_s[:, i], y_test_pred[:, i])\n",
    "#     roc_auc[i] = auc(fpr[i], tpr[i])\n",
    "\n",
    "# # Compute micro-average ROC curve and ROC area\n",
    "# fpr[\"micro\"], tpr[\"micro\"], _ = roc_curve(y_te_s.ravel(), y_test_pred.ravel())\n",
    "# roc_auc[\"micro\"] = auc(fpr[\"micro\"], tpr[\"micro\"])\n",
    "# plt.figure()\n",
    "# plt.style.use('seaborn')\n",
    "# lw = 2 # line_width\n",
    "# plt.plot(fpr[2], tpr[2], color='darkorange',\n",
    "#          lw=lw, label='ROC curve (area = %f)' % roc_auc[2]) # Drawing Curve according to 3. class \n",
    "# plt.plot([0, 1], [0, 1], color='navy', lw=lw, linestyle='--')\n",
    "\n",
    "# plt.xlabel('False Positive Rate')\n",
    "# plt.ylabel('True Positive Rate')\n",
    "# plt.title('ROC Eğrisi')\n",
    "# plt.legend(loc=\"lower right\")"
   ]
  },
  {
   "cell_type": "code",
   "execution_count": 14,
   "metadata": {
    "colab": {
     "base_uri": "https://localhost:8080/"
    },
    "id": "9KsbRO_xiiXP",
    "outputId": "724ad08c-bab0-4d47-f5da-cbb57b6f1bd6"
   },
   "outputs": [
    {
     "name": "stdout",
     "output_type": "stream",
     "text": [
      "[ 1.61500000e+03  9.62000000e+02  7.00000000e+01  1.30000000e+02\n",
      "  5.40000000e+01  4.70000000e+01  2.70000000e+01  4.30000000e+01\n",
      "  1.10000000e+02  6.20000000e+01  1.71000000e+02  9.40000000e+01\n",
      "  1.40000000e+01  3.50000000e+01  1.70000000e+01  2.34000000e+02\n",
      "  1.32000000e+02  2.12000000e+02  1.12100000e+03  5.30000000e+02\n",
      "  1.63200000e+03  1.14700000e+03  8.30000000e+01  1.57000000e+02\n",
      "  5.50000000e+01  5.10000000e+01  2.40000000e+01  4.80000000e+01\n",
      "  9.00000000e+01  5.40000000e+01  1.79000000e+02  1.11000000e+02\n",
      "  2.10000000e+01  3.40000000e+01  1.60000000e+01  1.87000000e+02\n",
      "  1.18000000e+02  1.94000000e+02  9.62000000e+02  5.17000000e+02\n",
      " -2.19660690e+00 -1.28266100e+01  1.41030282e+00 -3.45395165e+00\n",
      " -1.31800587e+00 -1.63592577e+00 -7.13772485e-01 -5.96084672e-01\n",
      "  1.35958224e-01  4.41067555e-01  7.58434467e-01  4.78828536e-01\n",
      "  1.52147485e-01 -1.06674962e-01]\n"
     ]
    }
   ],
   "source": [
    "x = k\n",
    "y = j\n",
    "\n",
    "from sklearn.preprocessing import StandardScaler\n",
    "from sklearn.preprocessing import MinMaxScaler\n",
    "\n",
    "scaler = StandardScaler()\n",
    "# keep our unscaled features just in case we need to process them alternatively\n",
    "features_scaled = x \n",
    "features_scaled = scaler.fit_transform(features_scaled)\n",
    "\n",
    "scaler = MinMaxScaler()\n",
    "# keep our unscaled features just in case we need to process them alternatively\n",
    "features_minmax = x\n",
    "features_minmax = scaler.fit_transform(features_minmax)\n",
    "X_train_scaled, X_test_scaled, y_t_s, y_te_s = train_test_split(\n",
    "    x, \n",
    "    y, \n",
    "    test_size=0.33, \n",
    "    random_state=69\n",
    ")\n",
    "print(x[0])"
   ]
  },
  {
   "cell_type": "code",
   "execution_count": 15,
   "metadata": {
    "colab": {
     "base_uri": "https://localhost:8080/",
     "height": 376
    },
    "id": "_pdIdeK5zRh6",
    "outputId": "39b0d876-17bb-446e-8298-7eb76455893c"
   },
   "outputs": [
    {
     "data": {
      "image/png": "[encoded data removed]",
      "text/plain": [
       "<Figure size 432x288 with 1 Axes>"
      ]
     },
     "metadata": {
      "needs_background": "light"
     },
     "output_type": "display_data"
    }
   ],
   "source": [
    "from sklearn.neighbors import KNeighborsClassifier\n",
    "from sklearn.svm import SVC\n",
    "from sklearn.tree import DecisionTreeClassifier\n",
    "from sklearn.ensemble import RandomForestClassifier, AdaBoostClassifier\n",
    "from sklearn.naive_bayes import GaussianNB\n",
    "from sklearn.discriminant_analysis import QuadraticDiscriminantAnalysis\n",
    "from numpy import loadtxt\n",
    "from xgboost import XGBClassifier\n",
    "from sklearn.metrics import accuracy_score\n",
    "from sklearn.multiclass import OneVsOneClassifier\n",
    "from sklearn.multiclass import OneVsRestClassifier\n",
    "from sklearn.neural_network import MLPClassifier\n",
    "from sklearn.metrics import roc_curve\n",
    "from sklearn.metrics import auc\n",
    "from sklearn import metrics\n",
    "from sklearn.metrics import f1_score\n",
    "import matplotlib.pyplot as plt\n",
    "from sklearn.preprocessing import label_binarize\n",
    "plt.figure()\n",
    "plt.style.use('seaborn')\n",
    "plt.plot(\n",
    "      fpr_elm,\n",
    "      tpr_elm,\n",
    "      label= \"ELM ROC curve (area = {0:f})\".format(roc_auc),\n",
    "      color=\"Red\",\n",
    "      linestyle=\"--\",\n",
    "      linewidth=1,\n",
    ")\n",
    "def compute_eer(fpr,tpr,thresholds):\n",
    "    \"\"\" Returns equal error rate (EER) and the corresponding threshold. \"\"\"\n",
    "\n",
    "    fnr = 1-tpr\n",
    "    abs_diffs = np.abs(fpr - fnr)\n",
    "    min_index = np.argmin(abs_diffs)\n",
    "    eer = np.mean((fpr[min_index], fnr[min_index]))\n",
    "    return eer, thresholds[min_index]\n",
    "def confusion_matrix(y_true, y_pred):\n",
    "  \n",
    "  cm = np.zeros((3, 3)) # initialize the confusion matrix\n",
    "  \n",
    "  for i in range(len(y_true)): # for each sample\n",
    "    cm[y_true[i], y_pred[i]] += 1 # add 1 to the corresponding row and column\n",
    "  \n",
    "  return cm\n",
    "y = label_binarize(y, classes=[0, 1, 2,3])\n",
    "n_classes = y.shape[1]\n",
    "# shuffle and split training and test sets\n",
    "features_minmax = x\n",
    "X_train, X_test, y_train, y_test = train_test_split(features_minmax, y, test_size=0.9, random_state=0)\n",
    "\n",
    "classification_models = [\n",
    "    # KNeighborsClassifier(probability=True),#(3),\n",
    "    # SVC(C=10,kernel='poly',degree=3,random_state=42,probability=True),#, C=0.025),\n",
    "    # SVC(kernel='linear',random_state=42,probability=True),\n",
    "    SVC(C=10,kernel='poly',degree=2,random_state=42,probability=True),#, C=0.025),\n",
    "    #SVC(kernel='rbf',random_state=42,probability=True),\n",
    "    DecisionTreeClassifier(),#max_depth=5),\n",
    "    # # RandomForestClassifier(probability=True),#max_depth=5, n_estimators=10, max_features=1),\n",
    "    GaussianNB(),\n",
    "    # QuadraticDiscriminantAnalysis(probability=True),\n",
    "]\n",
    "\n",
    "scores = []\n",
    "for model1 in classification_models:\n",
    "    model = OneVsRestClassifier(model1)\n",
    "    # model = model1\n",
    "    model.fit(X_train, y_train)\n",
    "    y_pred = model.predict(X_test)\n",
    "    score = model.score(X_test, y_test)\n",
    "    model_name = type(model1).__name__\n",
    "    if model_name=='SVC' and model1.kernel=='rbf': model_name+=' RBF kernel'\n",
    "    # f1 = f1_score(y_test, y_pred, average='macro')\n",
    "    y_score = model.predict_proba(X_test)\n",
    "    fpr, tpr, tresh = roc_curve(y_test[:, 0], y_score[:, 0])\n",
    "    roc_auc = auc(fpr, tpr)\n",
    "    eer,th = compute_eer(fpr,tpr,tresh)\n",
    "    mtdcf = (0.9405*fpr + 0.5*(1-tpr))/0.5\n",
    "    abs_diffs = np.abs(fpr - (1-tpr))\n",
    "    min_index = np.argmin(abs_diffs)\n",
    "    scores.append((model_name,(f'{100*score:.2f}%'),eer*100,mtdcf[min_index]))\n",
    "    plt.plot(\n",
    "        fpr,\n",
    "        tpr,\n",
    "        label= model_name +\"ROC curve (area = {0:f})\".format(roc_auc),\n",
    "        linestyle=\"--\",\n",
    "        linewidth=1,\n",
    "    )\n",
    "\n",
    "scores.append(('elm',(f'{acc*100:.2f}%'),elm_eer*100,elmmtd))\n",
    "# Make it pretty\n",
    "scores_df = pd.DataFrame(scores,columns=['Classifier','Accuracy Score','EER','min t-DCF'])\n",
    "scores_df.sort_values(by='Accuracy Score',axis=0,ascending=False)\n",
    "plt.plot([0, 1], [0, 1], color='navy', linestyle='--')\n",
    "\n",
    "plt.xlabel('False Positive Rate')\n",
    "plt.ylabel('True Positive Rate')\n",
    "plt.title('ROC')\n",
    "plt.legend(loc=\"lower right\")\n",
    "plt.show()\n"
   ]
  },
  {
   "cell_type": "code",
   "execution_count": 16,
   "metadata": {
    "colab": {
     "base_uri": "https://localhost:8080/"
    },
    "id": "LujgkMf3dal8",
    "outputId": "28dc234c-6bdd-468a-c374-b080a8ef835e"
   },
   "outputs": [
    {
     "name": "stdout",
     "output_type": "stream",
     "text": [
      "\\begin{tabular}{lllrr}\n",
      "\\toprule\n",
      "{} &              Classifier & Accuracy Score &        EER &  min t-DCF \\\\\n",
      "\\midrule\n",
      "3 &                     elm &         99.36\\% &   0.986313 &   0.028315 \\\\\n",
      "1 &  DecisionTreeClassifier &         93.79\\% &   4.415167 &   0.108395 \\\\\n",
      "0 &                     SVC &         91.09\\% &   5.324999 &   0.153382 \\\\\n",
      "2 &              GaussianNB &         55.95\\% &  13.951938 &   0.415529 \\\\\n",
      "\\bottomrule\n",
      "\\end{tabular}\n",
      "\n"
     ]
    }
   ],
   "source": [
    "print(scores_df.sort_values(by='Accuracy Score',axis=0,ascending=False).to_latex())"
   ]
  },
  {
   "cell_type": "code",
   "execution_count": 17,
   "metadata": {
    "id": "a4k9zymR4tq0"
   },
   "outputs": [],
   "source": [
    "X = k\n",
    "y = j\n",
    "import numpy as np\n",
    "import matplotlib.pyplot as plt\n",
    "from itertools import cycle\n",
    "\n",
    "from sklearn import svm, datasets\n",
    "from sklearn.metrics import roc_curve, auc\n",
    "from sklearn.model_selection import train_test_split\n",
    "from sklearn.preprocessing import label_binarize\n",
    "from sklearn.multiclass import OneVsRestClassifier\n",
    "from sklearn.metrics import roc_auc_score\n",
    "y = label_binarize(y, classes=[0, 1, 2,3])\n",
    "n_classes = y.shape[1]\n",
    "\n",
    "\n",
    "\n",
    "# shuffle and split training and test sets\n",
    "X_train, X_test, y_train, y_test = train_test_split(X, y, test_size=0.8, random_state=0,)\n",
    "\n",
    "# Learn to predict each class against the other\n",
    "classifier = OneVsRestClassifier(SVC(C=10,kernel='poly',degree=3,random_state=42,probability=True))\n",
    "y_score = classifier.fit(X_train, y_train).predict_proba(X_test)\n",
    "\n",
    "# Compute ROC curve and ROC area for each class\n",
    "fpr = dict()\n",
    "tpr = dict()\n",
    "tresh = dict()\n",
    "roc_auc = dict()\n",
    "for i in range(n_classes):\n",
    "    fpr[i], tpr[i], tresh[i] = roc_curve(y_test[:, i], y_score[:, i])\n",
    "    roc_auc[i] = auc(fpr[i], tpr[i])\n",
    "\n",
    "# Compute micro-average ROC curve and ROC area\n",
    "fpr[\"micro\"], tpr[\"micro\"], _ = roc_curve(y_test.ravel(), y_score.ravel())\n",
    "roc_auc[\"micro\"] = auc(fpr[\"micro\"], tpr[\"micro\"])"
   ]
  },
  {
   "cell_type": "code",
   "execution_count": 18,
   "metadata": {
    "colab": {
     "base_uri": "https://localhost:8080/",
     "height": 376
    },
    "id": "JRytDDYmAIhj",
    "outputId": "5bb3e4f9-35a6-4800-c798-334f9a258070"
   },
   "outputs": [
    {
     "data": {
      "image/png": "[encoded data removed]",
      "text/plain": [
       "<Figure size 576x396 with 1 Axes>"
      ]
     },
     "metadata": {},
     "output_type": "display_data"
    }
   ],
   "source": [
    "plt.figure()\n",
    "plt.style.use('seaborn')\n",
    "lw = 1 # line_width\n",
    "plt.plot(fpr[2], tpr[2],linestyle='--', color='darkorange',\n",
    "         lw=lw, label='ROC curve (area = %f)' % roc_auc[2]) # Drawing Curve according to 3. class \n",
    "plt.plot([0, 1], [0, 1], color='navy', lw=lw, linestyle='--')\n",
    "\n",
    "plt.xlim([0.0, 1.05])\n",
    "plt.ylim([0.0, 1.05])\n",
    "plt.xlabel('False Positive Rate')\n",
    "plt.ylabel('True Positive Rate')\n",
    "plt.title('ROC')\n",
    "plt.legend(loc=\"lower right\")\n",
    "plt.show()"
   ]
  },
  {
   "cell_type": "code",
   "execution_count": 19,
   "metadata": {
    "colab": {
     "base_uri": "https://localhost:8080/",
     "height": 393
    },
    "id": "onpN3xNN9eS2",
    "outputId": "fb286dd7-9cba-4f84-cf50-4d0725847e20"
   },
   "outputs": [
    {
     "data": {
      "text/plain": [
       "<matplotlib.legend.Legend at 0x17622c16df0>"
      ]
     },
     "execution_count": 19,
     "metadata": {},
     "output_type": "execute_result"
    },
    {
     "data": {
      "image/png": "[encoded data removed]",
      "text/plain": [
       "<Figure size 576x396 with 1 Axes>"
      ]
     },
     "metadata": {},
     "output_type": "display_data"
    }
   ],
   "source": [
    "# First aggregate all false positive rates\n",
    "all_fpr = np.unique(np.concatenate([fpr[i] for i in range(n_classes)]))\n",
    "\n",
    "# Then interpolate all ROC curves at this points\n",
    "mean_tpr = np.zeros_like(all_fpr)\n",
    "for i in range(n_classes):\n",
    "    mean_tpr += np.interp(all_fpr, fpr[i], tpr[i])\n",
    "\n",
    "# Finally average it and compute AUC\n",
    "mean_tpr /= n_classes\n",
    "\n",
    "fpr[\"macro\"] = all_fpr\n",
    "tpr[\"macro\"] = mean_tpr\n",
    "roc_auc[\"macro\"] = auc(fpr[\"macro\"], tpr[\"macro\"])\n",
    "\n",
    "# Plot all ROC curves\n",
    "plt.figure()\n",
    "plt.style.use('seaborn')\n",
    "plt.plot(\n",
    "    fpr[\"micro\"],\n",
    "    tpr[\"micro\"],\n",
    "    label=\"micro-average ROC curve (area = {0:0.2f})\".format(roc_auc[\"micro\"]),\n",
    "    color=\"deeppink\",\n",
    "    linestyle=\":\",\n",
    "    linewidth=4,\n",
    ")\n",
    "\n",
    "plt.plot(\n",
    "    fpr[\"macro\"],\n",
    "    tpr[\"macro\"],\n",
    "    label=\"macro-average ROC curve (area = {0:f})\".format(roc_auc[\"macro\"]),\n",
    "    color=\"navy\",\n",
    "    linestyle=\"--\",\n",
    "    linewidth=1,\n",
    ")\n",
    "\n",
    "colors = cycle([\"aqua\", \"darkorange\", \"cornflowerblue\"])\n",
    "for i, color in zip(range(n_classes), colors):\n",
    "    plt.plot(\n",
    "        fpr[i],\n",
    "        tpr[i],\n",
    "        color=color,\n",
    "        lw=lw,\n",
    "        label=\"ROC curve of class {0} (area = {1:f})\".format(i, roc_auc[i]),\n",
    "    )\n",
    "\n",
    "plt.plot([0, 1], [0, 1], \"k--\", lw=1)\n",
    "\n",
    "plt.xlabel(\"False Positive Rate\")\n",
    "plt.ylabel(\"True Positive Rate\")\n",
    "plt.title(\"Some extension of Receiver operating characteristic to multiclass\")\n",
    "plt.legend(loc=\"lower right\")"
   ]
  },
  {
   "cell_type": "code",
   "execution_count": 20,
   "metadata": {
    "colab": {
     "base_uri": "https://localhost:8080/",
     "height": 654
    },
    "id": "JWdNeFfDOgfx",
    "outputId": "e9dade99-2899-4fd0-99ee-4aec52390978"
   },
   "outputs": [
    {
     "name": "stdout",
     "output_type": "stream",
     "text": [
      "[ 1.61500000e+03  9.62000000e+02  7.00000000e+01  1.30000000e+02\n",
      "  5.40000000e+01  4.70000000e+01  2.70000000e+01  4.30000000e+01\n",
      "  1.10000000e+02  6.20000000e+01  1.71000000e+02  9.40000000e+01\n",
      "  1.40000000e+01  3.50000000e+01  1.70000000e+01  2.34000000e+02\n",
      "  1.32000000e+02  2.12000000e+02  1.12100000e+03  5.30000000e+02\n",
      "  1.63200000e+03  1.14700000e+03  8.30000000e+01  1.57000000e+02\n",
      "  5.50000000e+01  5.10000000e+01  2.40000000e+01  4.80000000e+01\n",
      "  9.00000000e+01  5.40000000e+01  1.79000000e+02  1.11000000e+02\n",
      "  2.10000000e+01  3.40000000e+01  1.60000000e+01  1.87000000e+02\n",
      "  1.18000000e+02  1.94000000e+02  9.62000000e+02  5.17000000e+02\n",
      " -2.19660690e+00 -1.28266100e+01  1.41030282e+00 -3.45395165e+00\n",
      " -1.31800587e+00 -1.63592577e+00 -7.13772485e-01 -5.96084672e-01\n",
      "  1.35958224e-01  4.41067555e-01  7.58434467e-01  4.78828536e-01\n",
      "  1.52147485e-01 -1.06674962e-01]\n",
      "Number of hidden neuros: 15\n",
      "Number of hidden neuros: 1000\n",
      "Training accuracy (%): 100.0\n",
      "Testing accuracy (%): 99.36560682727891\n"
     ]
    },
    {
     "data": {
      "text/plain": [
       "<matplotlib.legend.Legend at 0x1762502d490>"
      ]
     },
     "execution_count": 20,
     "metadata": {},
     "output_type": "execute_result"
    },
    {
     "data": {
      "image/png": "[encoded data removed]",
      "text/plain": [
       "<Figure size 576x396 with 1 Axes>"
      ]
     },
     "metadata": {},
     "output_type": "display_data"
    }
   ],
   "source": [
    "plt.style.use('seaborn')\n",
    "plt.plot(\n",
    "    fpr[\"macro\"],\n",
    "    tpr[\"macro\"],\n",
    "    label=\"SVM ROC curve (area = {0:f})\".format(roc_auc[\"macro\"]),\n",
    "    color=\"navy\",\n",
    "    linestyle=\"--\",\n",
    "    linewidth=1,\n",
    ")\n",
    "x = k\n",
    "y = j\n",
    "y = one_hot_encoding(y, 4)\n",
    "from sklearn.model_selection import train_test_split\n",
    "from sklearn.preprocessing import StandardScaler\n",
    "from sklearn.preprocessing import MinMaxScaler\n",
    "\n",
    "scaler = StandardScaler()\n",
    "# keep our unscaled features just in case we need to process them alternatively\n",
    "features_scaled = x \n",
    "features_scaled = scaler.fit_transform(features_scaled)\n",
    "\n",
    "scaler = MinMaxScaler()\n",
    "# keep our unscaled features just in case we need to process them alternatively\n",
    "features_minmax = x\n",
    "features_minmax = scaler.fit_transform(features_minmax)\n",
    "X_train_scaled, X_test_scaled, y_t_s, y_te_s = train_test_split(\n",
    "    features_minmax, \n",
    "    y, \n",
    "    test_size=0.8, \n",
    "    random_state=69\n",
    ")\n",
    "print(x[0])\n",
    "acc = 0\n",
    "for i in range(0,1):\n",
    "  L = 15 # Number of hidden neurons\n",
    "\n",
    "  print('Number of hidden neuros:', L)\n",
    "\n",
    "  y_train_pred, w1, w2 = elm_train(X_train_scaled, y_t_s, L=L) # Train\n",
    "  y_test_pred = elm_test(X_test_scaled, w1, w2) # Test\n",
    "  L = 1000# Number of hidden neurons\n",
    "\n",
    "  print('Number of hidden neuros:', L)\n",
    "\n",
    "  y_train_pred, w1, w2 = elm_train(X_train_scaled, y_t_s, L)\n",
    "  y_test_pred = elm_test(X_test_scaled, w1, w2)\n",
    "  train_acc = accuracy(revert_one_hot_encoding(y_t_s), revert_one_hot_encoding(y_train_pred))\n",
    "  test_acc = accuracy(revert_one_hot_encoding(y_te_s), revert_one_hot_encoding(y_test_pred))\n",
    "\n",
    "  print('Training accuracy (%):', train_acc*100)\n",
    "  print('Testing accuracy (%):', test_acc*100)\n",
    "  \n",
    "  if test_acc > acc:\n",
    "    acc = test_acc\n",
    "fpr = dict()\n",
    "tpr = dict()\n",
    "roc_auc = dict()\n",
    "for i in range(4):\n",
    "    fpr[i], tpr[i], _ = roc_curve(y_te_s[:, i], y_test_pred[:, i])\n",
    "    roc_auc[i] = auc(fpr[i], tpr[i])\n",
    "\n",
    "# Compute micro-average ROC curve and ROC area\n",
    "fpr[\"micro\"], tpr[\"micro\"], _ = roc_curve(y_te_s.ravel(), y_test_pred.ravel())\n",
    "roc_auc[\"micro\"] = auc(fpr[\"micro\"], tpr[\"micro\"])\n",
    "lw = 2 # line_width\n",
    "plt.plot(\n",
    "    fpr[\"micro\"],\n",
    "    tpr[\"micro\"],\n",
    "    label=\"ELM ROC curve (area = {0:f})\".format(roc_auc[\"micro\"]),\n",
    "    color=\"orange\",\n",
    "    linestyle=\"--\",\n",
    "    linewidth=1,\n",
    ")\n",
    "plt.plot([0, 1], [0, 1], color='navy', lw=1)\n",
    "\n",
    "plt.xlabel('False Positive Rate')\n",
    "plt.ylabel('True Positive Rate')\n",
    "plt.title('ROC')\n",
    "plt.legend(loc=\"lower right\")"
   ]
  },
  {
   "cell_type": "code",
   "execution_count": 21,
   "metadata": {
    "colab": {
     "background_save": true
    },
    "id": "rq5A6XwCjMEJ"
   },
   "outputs": [],
   "source": [
    "import numpy as np\n",
    "\n",
    "class ELM(object):  \n",
    "    \n",
    "    def __init__(self, inputSize, outputSize, hiddenSize):\n",
    "        \"\"\"\n",
    "        Initialize weight and bias between input layer and hidden layer\n",
    "        Parameters:\n",
    "        inputSize: int\n",
    "            The number of input layer dimensions or features in the training data\n",
    "        outputSize: int\n",
    "            The number of output layer dimensions\n",
    "        hiddenSize: int\n",
    "            The number of hidden layer dimensions        \n",
    "        \"\"\"    \n",
    "\n",
    "        self.inputSize = inputSize\n",
    "        self.outputSize = outputSize\n",
    "        self.hiddenSize = hiddenSize       \n",
    "        \n",
    "        # Initialize random weight with range [-0.5, 0.5]\n",
    "        self.weight = np.matrix(np.random.uniform(-0.5, 0.5, (self.hiddenSize, self.inputSize)))\n",
    "\n",
    "        # Initialize random bias with range [0, 1]\n",
    "        self.bias = np.matrix(np.random.uniform(0, 1, (1, self.hiddenSize)))\n",
    "        \n",
    "        self.H = 0\n",
    "        self.beta = 0\n",
    "\n",
    "    def sigmoid(self, x):\n",
    "        \"\"\"\n",
    "        Sigmoid activation function\n",
    "        \n",
    "        Parameters:\n",
    "        x: array-like or matrix\n",
    "            The value that the activation output will look for\n",
    "        Returns:      \n",
    "            The results of activation using sigmoid function\n",
    "        \"\"\"\n",
    "        return 1 / (1 + np.exp(-1 * x))\n",
    "\n",
    "    def predict(self, X):\n",
    "        \"\"\"\n",
    "        Predict the results of the training process using test data\n",
    "        Parameters:\n",
    "        X: array-like or matrix\n",
    "            Test data that will be used to determine output using ELM\n",
    "        Returns:\n",
    "            Predicted results or outputs from test data\n",
    "        \"\"\"\n",
    "        X = np.matrix(X)\n",
    "        y = self.sigmoid((X * self.weight.T) + self.bias) * self.beta\n",
    "\n",
    "        return y\n",
    "\n",
    "    def train(self, X, y):\n",
    "        \"\"\"\n",
    "        Extreme Learning Machine training process\n",
    "        Parameters:\n",
    "        X: array-like or matrix\n",
    "            Training data that contains the value of each feature\n",
    "        y: array-like or matrix\n",
    "            Training data that contains the value of the target (class)\n",
    "        Returns:\n",
    "            The results of the training process   \n",
    "        \"\"\"\n",
    "\n",
    "        X = np.matrix(X)\n",
    "        y = np.matrix(y)        \n",
    "        \n",
    "        # Calculate hidden layer output matrix (Hinit)\n",
    "        self.H = (X * self.weight.T) + self.bias\n",
    "\n",
    "        # Sigmoid activation function\n",
    "        self.H = self.sigmoid(self.H)\n",
    "\n",
    "        # Calculate the Moore-Penrose pseudoinverse matriks        \n",
    "        H_moore_penrose = np.linalg.inv(self.H.T * self.H) * self.H.T\n",
    "\n",
    "        # Calculate the output weight matrix beta\n",
    "        self.beta = H_moore_penrose * y\n",
    "\n",
    "        return self.H * self.beta"
   ]
  },
  {
   "cell_type": "code",
   "execution_count": null,
   "metadata": {
    "id": "f-n2P4_ajp-Y"
   },
   "outputs": [],
   "source": []
  }
 ],
 "metadata": {
  "colab": {
   "collapsed_sections": [],
   "provenance": []
  },
  "kernelspec": {
   "display_name": "Python 3 (ipykernel)",
   "language": "python",
   "name": "python3"
  },
  "language_info": {
   "codemirror_mode": {
    "name": "ipython",
    "version": 3
   },
   "file_extension": ".py",
   "mimetype": "text/x-python",
   "name": "python",
   "nbconvert_exporter": "python",
   "pygments_lexer": "ipython3",
   "version": "3.9.7"
  }
 },
 "nbformat": 4,
 "nbformat_minor": 1
}
